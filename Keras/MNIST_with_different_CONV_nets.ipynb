{
 "cells": [
  {
   "cell_type": "code",
   "execution_count": 1,
   "metadata": {
    "colab": {
     "base_uri": "https://localhost:8080/",
     "height": 34
    },
    "colab_type": "code",
    "id": "aNI348-JRqFC",
    "outputId": "8aa794d5-1e4b-4b80-f0ff-4224e60befb6"
   },
   "outputs": [
    {
     "name": "stderr",
     "output_type": "stream",
     "text": [
      "Using TensorFlow backend.\n"
     ]
    }
   ],
   "source": [
    "from keras.layers import Conv2D, Dense, Dropout, MaxPooling2D, AveragePooling2D, Flatten, ZeroPadding3D, ZeroPadding2D\n",
    "from keras.models import Sequential\n",
    "from keras.datasets import mnist\n",
    "from keras.utils import to_categorical\n",
    "from keras.losses import categorical_crossentropy\n",
    "import numpy as np"
   ]
  },
  {
   "cell_type": "code",
   "execution_count": 2,
   "metadata": {
    "colab": {
     "base_uri": "https://localhost:8080/",
     "height": 51
    },
    "colab_type": "code",
    "id": "HddIbDTYSr2c",
    "outputId": "ad87c7bd-78d7-4f52-c407-a0d72da3b1d3"
   },
   "outputs": [
    {
     "name": "stdout",
     "output_type": "stream",
     "text": [
      "Downloading data from https://s3.amazonaws.com/img-datasets/mnist.npz\n",
      "11493376/11490434 [==============================] - 2s 0us/step\n"
     ]
    }
   ],
   "source": [
    "(x_train, y_train), (x_test, y_test) = mnist.load_data()"
   ]
  },
  {
   "cell_type": "code",
   "execution_count": 3,
   "metadata": {
    "colab": {
     "base_uri": "https://localhost:8080/",
     "height": 34
    },
    "colab_type": "code",
    "id": "FXhnCIM7SvOK",
    "outputId": "29d76516-3803-4087-bb4a-346f4211838c"
   },
   "outputs": [
    {
     "name": "stdout",
     "output_type": "stream",
     "text": [
      "length of the train dataset is 60000 and test dataset is 10000\n"
     ]
    }
   ],
   "source": [
    "print(f'length of the train dataset is {x_train.shape[0]} and test dataset is {x_test.shape[0]}')"
   ]
  },
  {
   "cell_type": "code",
   "execution_count": 4,
   "metadata": {
    "colab": {},
    "colab_type": "code",
    "id": "JSkVeHNyTDhj"
   },
   "outputs": [],
   "source": [
    "max_value = np.max(x_train[0])\n",
    "x_train = x_train/max_value\n",
    "x_test = x_test/max_value"
   ]
  },
  {
   "cell_type": "code",
   "execution_count": 5,
   "metadata": {
    "colab": {},
    "colab_type": "code",
    "id": "ZBXtj9K9TIQB"
   },
   "outputs": [],
   "source": [
    "ytr = to_categorical(y_train)\n",
    "yte = to_categorical(y_test)"
   ]
  },
  {
   "cell_type": "code",
   "execution_count": 6,
   "metadata": {
    "colab": {},
    "colab_type": "code",
    "id": "Ik4Cs9X8XqPA"
   },
   "outputs": [],
   "source": [
    "num_classes = len(ytr[0])"
   ]
  },
  {
   "cell_type": "code",
   "execution_count": 7,
   "metadata": {
    "colab": {
     "base_uri": "https://localhost:8080/",
     "height": 34
    },
    "colab_type": "code",
    "id": "VQUC-pVegGZz",
    "outputId": "33586da8-796b-44d8-be9a-e350031c63c1"
   },
   "outputs": [
    {
     "data": {
      "text/plain": [
       "10"
      ]
     },
     "execution_count": 7,
     "metadata": {
      "tags": []
     },
     "output_type": "execute_result"
    }
   ],
   "source": [
    "num_classes"
   ]
  },
  {
   "cell_type": "code",
   "execution_count": 8,
   "metadata": {
    "colab": {
     "base_uri": "https://localhost:8080/",
     "height": 51
    },
    "colab_type": "code",
    "id": "gO7L3bcJTikH",
    "outputId": "c9a1c0a2-7fec-4d8d-eb4a-b774b0a5c6f0"
   },
   "outputs": [
    {
     "name": "stdout",
     "output_type": "stream",
     "text": [
      "5\n"
     ]
    },
    {
     "data": {
      "text/plain": [
       "array([0., 0., 0., 0., 0., 1., 0., 0., 0., 0.], dtype=float32)"
      ]
     },
     "execution_count": 8,
     "metadata": {
      "tags": []
     },
     "output_type": "execute_result"
    }
   ],
   "source": [
    "print(y_train[0])\n",
    "ytr[0]"
   ]
  },
  {
   "cell_type": "code",
   "execution_count": 9,
   "metadata": {
    "colab": {
     "base_uri": "https://localhost:8080/",
     "height": 34
    },
    "colab_type": "code",
    "id": "6HVdErFbTjtm",
    "outputId": "9cca27c6-a83c-478c-cdc8-2751da3b7d55"
   },
   "outputs": [
    {
     "data": {
      "text/plain": [
       "(28, 28)"
      ]
     },
     "execution_count": 9,
     "metadata": {
      "tags": []
     },
     "output_type": "execute_result"
    }
   ],
   "source": [
    "x_train[0].shape"
   ]
  },
  {
   "cell_type": "code",
   "execution_count": 10,
   "metadata": {
    "colab": {},
    "colab_type": "code",
    "id": "PDwUji8DUV4Q"
   },
   "outputs": [],
   "source": [
    "batch_size=100\n",
    "epochs=10"
   ]
  },
  {
   "cell_type": "code",
   "execution_count": 11,
   "metadata": {
    "colab": {
     "base_uri": "https://localhost:8080/",
     "height": 34
    },
    "colab_type": "code",
    "id": "GJJNBls4UjE-",
    "outputId": "4bcd8f1c-3aea-489f-ec3c-e56812f53e6f"
   },
   "outputs": [
    {
     "data": {
      "text/plain": [
       "'channels_last'"
      ]
     },
     "execution_count": 11,
     "metadata": {
      "tags": []
     },
     "output_type": "execute_result"
    }
   ],
   "source": [
    "from keras import backend as K\n",
    "K.image_data_format()"
   ]
  },
  {
   "cell_type": "code",
   "execution_count": 12,
   "metadata": {
    "colab": {},
    "colab_type": "code",
    "id": "9rFRv7RVU0JK"
   },
   "outputs": [],
   "source": [
    "img_rows, img_cols = 28 , 28\n",
    "if K.image_data_format() == 'channels_first':\n",
    "    x_train = x_train.reshape(x_train.shape[0], 1, img_rows, img_cols)\n",
    "    x_test = x_test.reshape(x_test.shape[0], 1, img_rows, img_cols)\n",
    "    input_shape = (1, img_rows, img_cols)\n",
    "else:\n",
    "    x_train = x_train.reshape(x_train.shape[0], img_rows, img_cols, 1)\n",
    "    x_test = x_test.reshape(x_test.shape[0], img_rows, img_cols, 1)\n",
    "    input_shape = (img_rows, img_cols, 1)"
   ]
  },
  {
   "cell_type": "code",
   "execution_count": 13,
   "metadata": {
    "colab": {
     "base_uri": "https://localhost:8080/",
     "height": 34
    },
    "colab_type": "code",
    "id": "B3opkLJwU5e_",
    "outputId": "6141bced-d077-44fb-dc6d-426f6eefd640"
   },
   "outputs": [
    {
     "data": {
      "text/plain": [
       "(60000, 28, 28, 1)"
      ]
     },
     "execution_count": 13,
     "metadata": {
      "tags": []
     },
     "output_type": "execute_result"
    }
   ],
   "source": [
    "x_train.shape"
   ]
  },
  {
   "cell_type": "code",
   "execution_count": 14,
   "metadata": {
    "colab": {
     "base_uri": "https://localhost:8080/",
     "height": 34
    },
    "colab_type": "code",
    "id": "iumnmgUFVEPj",
    "outputId": "6bcb1b0a-67ab-4ebf-9db1-05c3d31792bf"
   },
   "outputs": [
    {
     "data": {
      "text/plain": [
       "(28, 28, 1)"
      ]
     },
     "execution_count": 14,
     "metadata": {
      "tags": []
     },
     "output_type": "execute_result"
    }
   ],
   "source": [
    "input_shape"
   ]
  },
  {
   "cell_type": "markdown",
   "metadata": {
    "colab_type": "text",
    "id": "cRJ7aBfBVPAf"
   },
   "source": [
    "Convolution layers..."
   ]
  },
  {
   "cell_type": "markdown",
   "metadata": {
    "colab_type": "text",
    "id": "13D35gGVhTpz"
   },
   "source": [
    "3 Conv Layers with kernel size 3"
   ]
  },
  {
   "cell_type": "code",
   "execution_count": 15,
   "metadata": {
    "colab": {},
    "colab_type": "code",
    "id": "d-MCrQedkPUF"
   },
   "outputs": [],
   "source": [
    "conv_1 = Conv2D(filters=32, kernel_size=(3,3), input_shape = (input_shape), activation='relu')\n",
    "conv_2 = Conv2D(filters=64, kernel_size=(3,3), activation='relu')\n",
    "conv_3 = Conv2D(filters=128, kernel_size=(3,3), activation='relu')\n",
    "\n",
    "max_pool_1 = MaxPooling2D()\n",
    "max_pool_2 = MaxPooling2D()\n",
    "max_pool_3 = MaxPooling2D()\n",
    "\n",
    "dropout_1 = Dropout(0.25)\n",
    "dropout_2 = Dropout(0.50)\n",
    "\n",
    "flatten = Flatten()\n",
    "dense_1 = Dense(units=128, activation='relu')\n",
    "final = Dense(units=num_classes, activation='softmax')\n",
    "\n",
    "\n",
    "model = Sequential()\n",
    "model.add(conv_1)\n",
    "model.add(max_pool_1)\n",
    "\n",
    "model.add(conv_2)\n",
    "model.add(max_pool_2)\n",
    "model.add(conv_3)\n",
    "model.add(max_pool_3)\n",
    "model.add(flatten)\n",
    "model.add(dense_1)\n",
    "model.add(dropout_1)\n",
    "model.add(final)"
   ]
  },
  {
   "cell_type": "code",
   "execution_count": 16,
   "metadata": {
    "colab": {},
    "colab_type": "code",
    "id": "Qqjb5NWUX_lz"
   },
   "outputs": [],
   "source": [
    "model.compile(optimizer='sgd', loss=categorical_crossentropy, metrics=['accuracy'])"
   ]
  },
  {
   "cell_type": "code",
   "execution_count": 23,
   "metadata": {
    "colab": {
     "base_uri": "https://localhost:8080/",
     "height": 374
    },
    "colab_type": "code",
    "id": "GRK_es1JY6h3",
    "outputId": "940d63da-78d7-4f76-e262-cbfcf8819544"
   },
   "outputs": [
    {
     "name": "stdout",
     "output_type": "stream",
     "text": [
      "Train on 60000 samples, validate on 10000 samples\n",
      "Epoch 1/10\n",
      "60000/60000 [==============================] - 3s 54us/step - loss: 0.1193 - accuracy: 0.9635 - val_loss: 0.0897 - val_accuracy: 0.9724\n",
      "Epoch 2/10\n",
      "60000/60000 [==============================] - 3s 52us/step - loss: 0.1150 - accuracy: 0.9652 - val_loss: 0.0847 - val_accuracy: 0.9742\n",
      "Epoch 3/10\n",
      "60000/60000 [==============================] - 3s 53us/step - loss: 0.1085 - accuracy: 0.9669 - val_loss: 0.0809 - val_accuracy: 0.9753\n",
      "Epoch 4/10\n",
      "60000/60000 [==============================] - 3s 52us/step - loss: 0.1024 - accuracy: 0.9679 - val_loss: 0.0773 - val_accuracy: 0.9742\n",
      "Epoch 5/10\n",
      "60000/60000 [==============================] - 3s 53us/step - loss: 0.0977 - accuracy: 0.9703 - val_loss: 0.0785 - val_accuracy: 0.9764\n",
      "Epoch 6/10\n",
      "60000/60000 [==============================] - 3s 50us/step - loss: 0.0940 - accuracy: 0.9708 - val_loss: 0.0812 - val_accuracy: 0.9740\n",
      "Epoch 7/10\n",
      "60000/60000 [==============================] - 3s 50us/step - loss: 0.0902 - accuracy: 0.9730 - val_loss: 0.0722 - val_accuracy: 0.9769\n",
      "Epoch 8/10\n",
      "60000/60000 [==============================] - 3s 52us/step - loss: 0.0883 - accuracy: 0.9729 - val_loss: 0.0758 - val_accuracy: 0.9757\n",
      "Epoch 9/10\n",
      "60000/60000 [==============================] - 3s 52us/step - loss: 0.0843 - accuracy: 0.9739 - val_loss: 0.0670 - val_accuracy: 0.9795\n",
      "Epoch 10/10\n",
      "60000/60000 [==============================] - 3s 51us/step - loss: 0.0827 - accuracy: 0.9747 - val_loss: 0.0713 - val_accuracy: 0.9778\n"
     ]
    }
   ],
   "source": [
    "history = model.fit(x=x_train, y=ytr, batch_size=batch_size, epochs=epochs,\n",
    "          validation_data=(x_test, yte), verbose=1)"
   ]
  },
  {
   "cell_type": "code",
   "execution_count": 18,
   "metadata": {
    "colab": {
     "base_uri": "https://localhost:8080/",
     "height": 51
    },
    "colab_type": "code",
    "id": "JlC9G9nsY65b",
    "outputId": "3fe3e54f-50ff-4cca-d5f4-8521adb6ced0"
   },
   "outputs": [
    {
     "name": "stdout",
     "output_type": "stream",
     "text": [
      "Test loss: 0.09905982046369463\n",
      "Test accuracy: 0.967199981212616\n"
     ]
    }
   ],
   "source": [
    "score = model.evaluate(x_test, yte, verbose=0)\n",
    "print('Test loss:', score[0])\n",
    "print('Test accuracy:', score[1])"
   ]
  },
  {
   "cell_type": "code",
   "execution_count": 30,
   "metadata": {
    "colab": {},
    "colab_type": "code",
    "id": "q6uK3BHH1Qsi"
   },
   "outputs": [],
   "source": [
    "%matplotlib notebook\n",
    "%matplotlib inline\n",
    "import matplotlib.pyplot as plt\n",
    "import time\n",
    "def plt_dynamic(x, vy, ty, ax, colors=['b']):\n",
    "  ax.plot(x, vy, 'b', label=\"Validation Loss\")\n",
    "  ax.plot(x, ty, 'r', label=\"Train Loss\")\n",
    "  plt.legend()\n",
    "  plt.grid()\n",
    "  fig.canvas.draw()\n",
    "  # plt.show()"
   ]
  },
  {
   "cell_type": "code",
   "execution_count": 31,
   "metadata": {
    "colab": {
     "base_uri": "https://localhost:8080/",
     "height": 279
    },
    "colab_type": "code",
    "id": "URuJVH2Z1lWw",
    "outputId": "8fe7d132-d260-4c8d-8e20-71c17a5eaf14"
   },
   "outputs": [
    {
     "data": {
      "image/png": "[encoded data removed]",
      "text/plain": [
       "<Figure size 432x288 with 1 Axes>"
      ]
     },
     "metadata": {
      "needs_background": "light",
      "tags": []
     },
     "output_type": "display_data"
    }
   ],
   "source": [
    "fig,ax = plt.subplots(1,1)\n",
    "ax.set_xlabel('epoch')\n",
    "ax.set_ylabel('Categorical Crossentropy Loss')\n",
    "# list of epoch numbers\n",
    "x = list(range(1,epochs+1))\n",
    "vy = history.history['val_loss']\n",
    "ty = history.history['loss']\n",
    "plt_dynamic(x, vy, ty, ax)"
   ]
  },
  {
   "cell_type": "markdown",
   "metadata": {
    "colab_type": "text",
    "id": "s3yZg8PRhnJp"
   },
   "source": [
    "3 Conv Layers with Kernel size 5"
   ]
  },
  {
   "cell_type": "code",
   "execution_count": null,
   "metadata": {
    "colab": {},
    "colab_type": "code",
    "id": "g-H0NR56n2Wh"
   },
   "outputs": [],
   "source": [
    "Conv2D??"
   ]
  },
  {
   "cell_type": "code",
   "execution_count": 32,
   "metadata": {
    "colab": {
     "base_uri": "https://localhost:8080/",
     "height": 408
    },
    "colab_type": "code",
    "id": "64qf9FIshsJE",
    "outputId": "e98e1eeb-ba2e-46a0-b3cf-4d4064544ecb"
   },
   "outputs": [
    {
     "name": "stdout",
     "output_type": "stream",
     "text": [
      "Train on 60000 samples, validate on 10000 samples\n",
      "Epoch 1/10\n",
      "60000/60000 [==============================] - 5s 82us/step - loss: 1.2277 - accuracy: 0.6570 - val_loss: 0.2906 - val_accuracy: 0.9157\n",
      "Epoch 2/10\n",
      "60000/60000 [==============================] - 5s 78us/step - loss: 0.2758 - accuracy: 0.9175 - val_loss: 0.1640 - val_accuracy: 0.9520\n",
      "Epoch 3/10\n",
      "60000/60000 [==============================] - 5s 77us/step - loss: 0.1801 - accuracy: 0.9461 - val_loss: 0.1142 - val_accuracy: 0.9664\n",
      "Epoch 4/10\n",
      "60000/60000 [==============================] - 5s 77us/step - loss: 0.1393 - accuracy: 0.9582 - val_loss: 0.0921 - val_accuracy: 0.9735\n",
      "Epoch 5/10\n",
      "60000/60000 [==============================] - 5s 78us/step - loss: 0.1164 - accuracy: 0.9647 - val_loss: 0.0752 - val_accuracy: 0.9764\n",
      "Epoch 6/10\n",
      "60000/60000 [==============================] - 5s 77us/step - loss: 0.1012 - accuracy: 0.9698 - val_loss: 0.0715 - val_accuracy: 0.9768\n",
      "Epoch 7/10\n",
      "60000/60000 [==============================] - 5s 78us/step - loss: 0.0896 - accuracy: 0.9730 - val_loss: 0.0635 - val_accuracy: 0.9801\n",
      "Epoch 8/10\n",
      "60000/60000 [==============================] - 5s 78us/step - loss: 0.0809 - accuracy: 0.9756 - val_loss: 0.0535 - val_accuracy: 0.9839\n",
      "Epoch 9/10\n",
      "60000/60000 [==============================] - 5s 77us/step - loss: 0.0738 - accuracy: 0.9779 - val_loss: 0.0511 - val_accuracy: 0.9831\n",
      "Epoch 10/10\n",
      "60000/60000 [==============================] - 5s 77us/step - loss: 0.0701 - accuracy: 0.9786 - val_loss: 0.0498 - val_accuracy: 0.9853\n",
      "Test loss: 0.04984060045955702\n",
      "Test accuracy: 0.9853000044822693\n"
     ]
    }
   ],
   "source": [
    "model = Sequential()\n",
    "kernel=5\n",
    "conv_1 = Conv2D(filters=32, kernel_size=kernel, input_shape = (input_shape), activation='relu')\n",
    "conv_2 = Conv2D(filters=64, kernel_size=kernel, activation='relu')\n",
    "conv_3 = Conv2D(filters=128, kernel_size=kernel, activation='relu')\n",
    "\n",
    "max_pool_1 = MaxPooling2D()\n",
    "max_pool_2 = MaxPooling2D()\n",
    "max_pool_3 = AveragePooling2D()\n",
    "\n",
    "zero_pad = ZeroPadding2D(padding=(5,5))\n",
    "dropout_1 = Dropout(0.25)\n",
    "\n",
    "flatten = Flatten()\n",
    "dense_1 = Dense(units=128, activation='relu')\n",
    "final = Dense(units=num_classes, activation='softmax')\n",
    "\n",
    "\n",
    "model.add(conv_1)\n",
    "model.add(max_pool_1)\n",
    "model.add(conv_2)\n",
    "model.add(max_pool_2)\n",
    "model.add(zero_pad)\n",
    "model.add(conv_3)\n",
    "model.add(flatten)\n",
    "model.add(dense_1)\n",
    "model.add(dropout_1)\n",
    "model.add(final)\n",
    "\n",
    "model.compile(optimizer='sgd', loss=categorical_crossentropy, metrics=['accuracy'])\n",
    "\n",
    "history = model.fit(x=x_train, y=ytr, batch_size=batch_size, epochs=epochs,\n",
    "          validation_data=(x_test, yte), verbose=1)\n",
    "\n",
    "score = model.evaluate(x_test, yte, verbose=0)\n",
    "print('Test loss:', score[0])\n",
    "print('Test accuracy:', score[1])"
   ]
  },
  {
   "cell_type": "code",
   "execution_count": 33,
   "metadata": {
    "colab": {
     "base_uri": "https://localhost:8080/",
     "height": 279
    },
    "colab_type": "code",
    "id": "3sa7V9ns2qBJ",
    "outputId": "25a7ce84-a8ed-4fc1-9efa-82644ec3c5b8"
   },
   "outputs": [
    {
     "data": {
      "image/png": "[encoded data removed]",
      "text/plain": [
       "<Figure size 432x288 with 1 Axes>"
      ]
     },
     "metadata": {
      "needs_background": "light",
      "tags": []
     },
     "output_type": "display_data"
    }
   ],
   "source": [
    "fig,ax = plt.subplots(1,1)\n",
    "ax.set_xlabel('epoch')\n",
    "ax.set_ylabel('Categorical Crossentropy Loss')\n",
    "# list of epoch numbers\n",
    "x = list(range(1,epochs+1))\n",
    "vy = history.history['val_loss']\n",
    "ty = history.history['loss']\n",
    "plt_dynamic(x, vy, ty, ax)"
   ]
  },
  {
   "cell_type": "markdown",
   "metadata": {
    "colab_type": "text",
    "id": "Pb6ysbhCiGJz"
   },
   "source": [
    "3 Conv Layers with Kernel Size 2"
   ]
  },
  {
   "cell_type": "code",
   "execution_count": 34,
   "metadata": {
    "colab": {
     "base_uri": "https://localhost:8080/",
     "height": 408
    },
    "colab_type": "code",
    "id": "2fVrjrH8h50_",
    "outputId": "068e835a-a685-44db-f3a4-b57e7966882b"
   },
   "outputs": [
    {
     "name": "stdout",
     "output_type": "stream",
     "text": [
      "Train on 60000 samples, validate on 10000 samples\n",
      "Epoch 1/10\n",
      "60000/60000 [==============================] - 3s 52us/step - loss: 1.3356 - accuracy: 0.6007 - val_loss: 0.4047 - val_accuracy: 0.8833\n",
      "Epoch 2/10\n",
      "60000/60000 [==============================] - 3s 50us/step - loss: 0.4045 - accuracy: 0.8752 - val_loss: 0.2539 - val_accuracy: 0.9231\n",
      "Epoch 3/10\n",
      "60000/60000 [==============================] - 3s 48us/step - loss: 0.2977 - accuracy: 0.9074 - val_loss: 0.2042 - val_accuracy: 0.9359\n",
      "Epoch 4/10\n",
      "60000/60000 [==============================] - 3s 49us/step - loss: 0.2373 - accuracy: 0.9272 - val_loss: 0.1671 - val_accuracy: 0.9498\n",
      "Epoch 5/10\n",
      "60000/60000 [==============================] - 3s 50us/step - loss: 0.1972 - accuracy: 0.9390 - val_loss: 0.1380 - val_accuracy: 0.9596\n",
      "Epoch 6/10\n",
      "60000/60000 [==============================] - 3s 52us/step - loss: 0.1707 - accuracy: 0.9484 - val_loss: 0.1162 - val_accuracy: 0.9660\n",
      "Epoch 7/10\n",
      "60000/60000 [==============================] - 3s 50us/step - loss: 0.1517 - accuracy: 0.9533 - val_loss: 0.1048 - val_accuracy: 0.9662\n",
      "Epoch 8/10\n",
      "60000/60000 [==============================] - 3s 51us/step - loss: 0.1378 - accuracy: 0.9578 - val_loss: 0.0965 - val_accuracy: 0.9706\n",
      "Epoch 9/10\n",
      "60000/60000 [==============================] - 3s 49us/step - loss: 0.1235 - accuracy: 0.9626 - val_loss: 0.0931 - val_accuracy: 0.9721\n",
      "Epoch 10/10\n",
      "60000/60000 [==============================] - 3s 50us/step - loss: 0.1151 - accuracy: 0.9649 - val_loss: 0.0826 - val_accuracy: 0.9741\n",
      "Test loss: 0.08255197058618069\n",
      "Test accuracy: 0.9740999937057495\n"
     ]
    }
   ],
   "source": [
    "model = Sequential()\n",
    "conv_1 = Conv2D(filters=32, kernel_size=(2,2), input_shape = (input_shape), activation='relu')\n",
    "conv_2 = Conv2D(filters=63, kernel_size=(2,2), activation='relu')\n",
    "conv_3 = Conv2D(filters=128, kernel_size=(2,2), activation='relu')\n",
    "\n",
    "max_pool_1 = MaxPooling2D()\n",
    "max_pool_2 = MaxPooling2D()\n",
    "\n",
    "dropout_1 = Dropout(0.25)\n",
    "dropout_2 = Dropout(0.50)\n",
    "\n",
    "flatten = Flatten()\n",
    "dense_1 = Dense(units=128, activation='relu')\n",
    "final = Dense(units=num_classes, activation='softmax')\n",
    "\n",
    "\n",
    "model.add(conv_1)\n",
    "model.add(max_pool_1)\n",
    "model.add(conv_2)\n",
    "model.add(max_pool_2)\n",
    "model.add(conv_3)\n",
    "model.add(flatten)\n",
    "model.add(dense_1)\n",
    "model.add(dropout_1)\n",
    "model.add(final)\n",
    "\n",
    "model.compile(optimizer='sgd', loss=categorical_crossentropy, metrics=['accuracy'])\n",
    "\n",
    "history = model.fit(x=x_train, y=ytr, batch_size=batch_size, epochs=epochs,\n",
    "          validation_data=(x_test, yte), verbose=1)\n",
    "\n",
    "score = model.evaluate(x_test, yte, verbose=0)\n",
    "print('Test loss:', score[0])\n",
    "print('Test accuracy:', score[1])"
   ]
  },
  {
   "cell_type": "code",
   "execution_count": 35,
   "metadata": {
    "colab": {
     "base_uri": "https://localhost:8080/",
     "height": 279
    },
    "colab_type": "code",
    "id": "Gnu1Y5TG2uam",
    "outputId": "1d5fac84-9f8a-43e3-fef0-36a0afa5bcdb"
   },
   "outputs": [
    {
     "data": {
      "image/png": "[encoded data removed]",
      "text/plain": [
       "<Figure size 432x288 with 1 Axes>"
      ]
     },
     "metadata": {
      "needs_background": "light",
      "tags": []
     },
     "output_type": "display_data"
    }
   ],
   "source": [
    "fig,ax = plt.subplots(1,1)\n",
    "ax.set_xlabel('epoch')\n",
    "ax.set_ylabel('Categorical Crossentropy Loss')\n",
    "# list of epoch numbers\n",
    "x = list(range(1,epochs+1))\n",
    "vy = history.history['val_loss']\n",
    "ty = history.history['loss']\n",
    "plt_dynamic(x, vy, ty, ax)"
   ]
  },
  {
   "cell_type": "markdown",
   "metadata": {
    "colab_type": "text",
    "id": "LOJRkHwap3Jm"
   },
   "source": [
    "5 Convolutional Layers"
   ]
  },
  {
   "cell_type": "markdown",
   "metadata": {
    "colab_type": "text",
    "id": "_yAyeBP1p6MP"
   },
   "source": [
    "Kernel Size=2"
   ]
  },
  {
   "cell_type": "code",
   "execution_count": 36,
   "metadata": {
    "colab": {
     "base_uri": "https://localhost:8080/",
     "height": 408
    },
    "colab_type": "code",
    "id": "yY2ev4iem4zK",
    "outputId": "7959e6f5-e08a-4157-84fd-ae68e13aa8b9"
   },
   "outputs": [
    {
     "name": "stdout",
     "output_type": "stream",
     "text": [
      "Train on 60000 samples, validate on 10000 samples\n",
      "Epoch 1/10\n",
      "60000/60000 [==============================] - 10s 170us/step - loss: 1.4338 - accuracy: 0.5670 - val_loss: 0.3685 - val_accuracy: 0.8942\n",
      "Epoch 2/10\n",
      "60000/60000 [==============================] - 10s 162us/step - loss: 0.3436 - accuracy: 0.8928 - val_loss: 0.2170 - val_accuracy: 0.9352\n",
      "Epoch 3/10\n",
      "60000/60000 [==============================] - 10s 162us/step - loss: 0.2343 - accuracy: 0.9270 - val_loss: 0.1642 - val_accuracy: 0.9503\n",
      "Epoch 4/10\n",
      "60000/60000 [==============================] - 10s 161us/step - loss: 0.1853 - accuracy: 0.9423 - val_loss: 0.1369 - val_accuracy: 0.9552\n",
      "Epoch 5/10\n",
      "60000/60000 [==============================] - 10s 161us/step - loss: 0.1533 - accuracy: 0.9523 - val_loss: 0.1175 - val_accuracy: 0.9626\n",
      "Epoch 6/10\n",
      "60000/60000 [==============================] - 10s 161us/step - loss: 0.1337 - accuracy: 0.9584 - val_loss: 0.1006 - val_accuracy: 0.9679\n",
      "Epoch 7/10\n",
      "60000/60000 [==============================] - 10s 159us/step - loss: 0.1204 - accuracy: 0.9622 - val_loss: 0.0900 - val_accuracy: 0.9704\n",
      "Epoch 8/10\n",
      "60000/60000 [==============================] - 10s 160us/step - loss: 0.1084 - accuracy: 0.9666 - val_loss: 0.0808 - val_accuracy: 0.9732\n",
      "Epoch 9/10\n",
      "60000/60000 [==============================] - 10s 160us/step - loss: 0.0973 - accuracy: 0.9689 - val_loss: 0.0743 - val_accuracy: 0.9749\n",
      "Epoch 10/10\n",
      "60000/60000 [==============================] - 10s 162us/step - loss: 0.0912 - accuracy: 0.9718 - val_loss: 0.0700 - val_accuracy: 0.9755\n",
      "Test loss: 0.07003131841449067\n",
      "Test accuracy: 0.9754999876022339\n"
     ]
    }
   ],
   "source": [
    "model = Sequential()\n",
    "conv_1 = Conv2D(filters=32, kernel_size=(2,2), input_shape = input_shape, activation='relu')\n",
    "conv_2 = Conv2D(filters=63, kernel_size=(2,2), activation='relu')\n",
    "conv_3 = Conv2D(filters=128, kernel_size=(2,2), activation='relu')\n",
    "conv_4 = Conv2D(filters=256, kernel_size=(2,2), activation='relu')\n",
    "conv_5 = Conv2D(filters=512, kernel_size=(2,2), activation='relu')\n",
    "\n",
    "zero_pad = ZeroPadding2D(padding=(5,5))\n",
    "\n",
    "max_pool_1 = MaxPooling2D()\n",
    "max_pool_2 = MaxPooling2D()\n",
    "\n",
    "dropout_1 = Dropout(0.25)\n",
    "dropout_2 = Dropout(0.50)\n",
    "\n",
    "flatten = Flatten()\n",
    "dense_1 = Dense(units=128, activation='relu')\n",
    "final = Dense(units=num_classes, activation='softmax')\n",
    "\n",
    "model.add(conv_1)\n",
    "model.add(max_pool_1)\n",
    "model.add(zero_pad)\n",
    "model.add(conv_2)\n",
    "model.add(max_pool_2)\n",
    "model.add(conv_3)\n",
    "model.add(conv_4)\n",
    "model.add(conv_5)\n",
    "model.add(flatten)\n",
    "model.add(dense_1)\n",
    "model.add(dropout_1)\n",
    "model.add(final)\n",
    "\n",
    "model.compile(optimizer='sgd', loss=categorical_crossentropy, metrics=['accuracy'])\n",
    "\n",
    "history = model.fit(x=x_train, y=ytr, batch_size=batch_size, epochs=epochs,\n",
    "          validation_data=(x_test, yte), verbose=1)\n",
    "\n",
    "score = model.evaluate(x_test, yte, verbose=0)\n",
    "print('Test loss:', score[0])\n",
    "print('Test accuracy:', score[1])"
   ]
  },
  {
   "cell_type": "code",
   "execution_count": 37,
   "metadata": {
    "colab": {
     "base_uri": "https://localhost:8080/",
     "height": 279
    },
    "colab_type": "code",
    "id": "1JCrjixU2ykL",
    "outputId": "bc6abafe-49bc-473d-da14-517a99554489"
   },
   "outputs": [
    {
     "data": {
      "image/png": "[encoded data removed]",
      "text/plain": [
       "<Figure size 432x288 with 1 Axes>"
      ]
     },
     "metadata": {
      "needs_background": "light",
      "tags": []
     },
     "output_type": "display_data"
    }
   ],
   "source": [
    "fig,ax = plt.subplots(1,1)\n",
    "ax.set_xlabel('epoch')\n",
    "ax.set_ylabel('Categorical Crossentropy Loss')\n",
    "# list of epoch numbers\n",
    "x = list(range(1,epochs+1))\n",
    "vy = history.history['val_loss']\n",
    "ty = history.history['loss']\n",
    "plt_dynamic(x, vy, ty, ax)"
   ]
  },
  {
   "cell_type": "markdown",
   "metadata": {
    "colab_type": "text",
    "id": "OSkhGiXXrQve"
   },
   "source": [
    "Kernel Size=3"
   ]
  },
  {
   "cell_type": "code",
   "execution_count": 40,
   "metadata": {
    "colab": {
     "base_uri": "https://localhost:8080/",
     "height": 408
    },
    "colab_type": "code",
    "id": "CjbdkkSYqtso",
    "outputId": "ce2591ef-35af-40a6-c975-9d65d990b78a"
   },
   "outputs": [
    {
     "name": "stdout",
     "output_type": "stream",
     "text": [
      "Train on 60000 samples, validate on 10000 samples\n",
      "Epoch 1/10\n",
      "60000/60000 [==============================] - 7s 122us/step - loss: 1.2687 - accuracy: 0.6658 - val_loss: 0.2930 - val_accuracy: 0.9082\n",
      "Epoch 2/10\n",
      "60000/60000 [==============================] - 7s 121us/step - loss: 0.2785 - accuracy: 0.9132 - val_loss: 0.1680 - val_accuracy: 0.9490\n",
      "Epoch 3/10\n",
      "60000/60000 [==============================] - 7s 121us/step - loss: 0.1837 - accuracy: 0.9434 - val_loss: 0.1193 - val_accuracy: 0.9618\n",
      "Epoch 4/10\n",
      "60000/60000 [==============================] - 7s 123us/step - loss: 0.1396 - accuracy: 0.9568 - val_loss: 0.0923 - val_accuracy: 0.9690\n",
      "Epoch 5/10\n",
      "60000/60000 [==============================] - 7s 122us/step - loss: 0.1143 - accuracy: 0.9649 - val_loss: 0.0767 - val_accuracy: 0.9754\n",
      "Epoch 6/10\n",
      "60000/60000 [==============================] - 7s 121us/step - loss: 0.0960 - accuracy: 0.9703 - val_loss: 0.0696 - val_accuracy: 0.9770\n",
      "Epoch 7/10\n",
      "60000/60000 [==============================] - 7s 119us/step - loss: 0.0823 - accuracy: 0.9740 - val_loss: 0.0648 - val_accuracy: 0.9788\n",
      "Epoch 8/10\n",
      "60000/60000 [==============================] - 7s 120us/step - loss: 0.0749 - accuracy: 0.9764 - val_loss: 0.0537 - val_accuracy: 0.9830\n",
      "Epoch 9/10\n",
      "60000/60000 [==============================] - 7s 120us/step - loss: 0.0664 - accuracy: 0.9793 - val_loss: 0.0505 - val_accuracy: 0.9817\n",
      "Epoch 10/10\n",
      "60000/60000 [==============================] - 7s 120us/step - loss: 0.0601 - accuracy: 0.9810 - val_loss: 0.0475 - val_accuracy: 0.9845\n",
      "Test loss: 0.047498973806994034\n",
      "Test accuracy: 0.984499990940094\n"
     ]
    }
   ],
   "source": [
    "kernel=3\n",
    "model = Sequential()\n",
    "conv_1 = Conv2D(filters=32, kernel_size=kernel, input_shape = input_shape, activation='relu')\n",
    "conv_2 = Conv2D(filters=63, kernel_size=kernel, activation='relu')\n",
    "conv_3 = Conv2D(filters=128, kernel_size=kernel, activation='relu')\n",
    "conv_4 = Conv2D(filters=256, kernel_size=kernel, activation='relu')\n",
    "conv_5 = Conv2D(filters=512, kernel_size=kernel, activation='relu')\n",
    "\n",
    "zero_pad = ZeroPadding2D(padding=(5,5))\n",
    "\n",
    "max_pool_1 = MaxPooling2D()\n",
    "max_pool_2 = MaxPooling2D()\n",
    "\n",
    "dropout_1 = Dropout(0.25)\n",
    "dropout_2 = Dropout(0.50)\n",
    "\n",
    "flatten = Flatten()\n",
    "dense_1 = Dense(units=128, activation='relu')\n",
    "final = Dense(units=num_classes, activation='softmax')\n",
    "\n",
    "model.add(conv_1)\n",
    "model.add(max_pool_1)\n",
    "model.add(zero_pad)\n",
    "model.add(conv_2)\n",
    "model.add(max_pool_2)\n",
    "model.add(conv_3)\n",
    "model.add(conv_4)\n",
    "model.add(conv_5)\n",
    "model.add(flatten)\n",
    "model.add(dense_1)\n",
    "model.add(dropout_1)\n",
    "model.add(final)\n",
    "\n",
    "model.compile(optimizer='sgd', loss=categorical_crossentropy, metrics=['accuracy'])\n",
    "\n",
    "history = model.fit(x=x_train, y=ytr, batch_size=batch_size, epochs=epochs,\n",
    "          validation_data=(x_test, yte), verbose=1)\n",
    "\n",
    "score = model.evaluate(x_test, yte, verbose=0)\n",
    "print('Test loss:', score[0])\n",
    "print('Test accuracy:', score[1])"
   ]
  },
  {
   "cell_type": "code",
   "execution_count": 41,
   "metadata": {
    "colab": {
     "base_uri": "https://localhost:8080/",
     "height": 279
    },
    "colab_type": "code",
    "id": "aFJwAydt21cb",
    "outputId": "5f3a55b7-2fdb-43a7-fca0-5fecda6de4bf"
   },
   "outputs": [
    {
     "data": {
      "image/png": "[encoded data removed]",
      "text/plain": [
       "<Figure size 432x288 with 1 Axes>"
      ]
     },
     "metadata": {
      "needs_background": "light",
      "tags": []
     },
     "output_type": "display_data"
    }
   ],
   "source": [
    "fig,ax = plt.subplots(1,1)\n",
    "ax.set_xlabel('epoch')\n",
    "ax.set_ylabel('Categorical Crossentropy Loss')\n",
    "# list of epoch numbers\n",
    "x = list(range(1,epochs+1))\n",
    "vy = history.history['val_loss']\n",
    "ty = history.history['loss']\n",
    "plt_dynamic(x, vy, ty, ax)"
   ]
  },
  {
   "cell_type": "code",
   "execution_count": 42,
   "metadata": {
    "colab": {
     "base_uri": "https://localhost:8080/",
     "height": 408
    },
    "colab_type": "code",
    "id": "iSrlt8Flrau6",
    "outputId": "54a692f6-7cf2-4c25-dba5-7efad3bb33d0"
   },
   "outputs": [
    {
     "name": "stdout",
     "output_type": "stream",
     "text": [
      "Train on 60000 samples, validate on 10000 samples\n",
      "Epoch 1/10\n",
      "60000/60000 [==============================] - 16s 263us/step - loss: 0.9745 - accuracy: 0.7210 - val_loss: 0.2236 - val_accuracy: 0.9323\n",
      "Epoch 2/10\n",
      "60000/60000 [==============================] - 15s 254us/step - loss: 0.2268 - accuracy: 0.9296 - val_loss: 0.1413 - val_accuracy: 0.9569\n",
      "Epoch 3/10\n",
      "60000/60000 [==============================] - 15s 255us/step - loss: 0.1509 - accuracy: 0.9535 - val_loss: 0.0990 - val_accuracy: 0.9684\n",
      "Epoch 4/10\n",
      "60000/60000 [==============================] - 15s 258us/step - loss: 0.1147 - accuracy: 0.9656 - val_loss: 0.0858 - val_accuracy: 0.9726\n",
      "Epoch 5/10\n",
      "60000/60000 [==============================] - 16s 259us/step - loss: 0.0933 - accuracy: 0.9712 - val_loss: 0.0674 - val_accuracy: 0.9791\n",
      "Epoch 6/10\n",
      "60000/60000 [==============================] - 15s 256us/step - loss: 0.0800 - accuracy: 0.9756 - val_loss: 0.0544 - val_accuracy: 0.9822\n",
      "Epoch 7/10\n",
      "60000/60000 [==============================] - 15s 256us/step - loss: 0.0708 - accuracy: 0.9778 - val_loss: 0.0559 - val_accuracy: 0.9810\n",
      "Epoch 8/10\n",
      "60000/60000 [==============================] - 16s 259us/step - loss: 0.0624 - accuracy: 0.9804 - val_loss: 0.0489 - val_accuracy: 0.9839\n",
      "Epoch 9/10\n",
      "60000/60000 [==============================] - 15s 258us/step - loss: 0.0572 - accuracy: 0.9819 - val_loss: 0.0510 - val_accuracy: 0.9837\n",
      "Epoch 10/10\n",
      "60000/60000 [==============================] - 15s 256us/step - loss: 0.0532 - accuracy: 0.9831 - val_loss: 0.0473 - val_accuracy: 0.9843\n",
      "Test loss: 0.04731896648776019\n",
      "Test accuracy: 0.9843000173568726\n"
     ]
    }
   ],
   "source": [
    "kernel=5\n",
    "model = Sequential()\n",
    "conv_1 = Conv2D(filters=32, kernel_size=kernel, input_shape = input_shape, activation='relu')\n",
    "conv_2 = Conv2D(filters=63, kernel_size=kernel, activation='relu')\n",
    "conv_3 = Conv2D(filters=128, kernel_size=kernel, activation='relu')\n",
    "conv_4 = Conv2D(filters=256, kernel_size=kernel, activation='relu')\n",
    "conv_5 = Conv2D(filters=512, kernel_size=kernel, activation='relu')\n",
    "\n",
    "zero_pad = ZeroPadding2D(padding=(10,10))\n",
    "\n",
    "max_pool_1 = MaxPooling2D()\n",
    "max_pool_2 = MaxPooling2D()\n",
    "\n",
    "dropout_1 = Dropout(0.25)\n",
    "dropout_2 = Dropout(0.50)\n",
    "\n",
    "flatten = Flatten()\n",
    "dense_1 = Dense(units=128, activation='relu')\n",
    "final = Dense(units=num_classes, activation='softmax')\n",
    "\n",
    "model.add(conv_1)\n",
    "model.add(max_pool_1)\n",
    "model.add(zero_pad)\n",
    "model.add(conv_2)\n",
    "model.add(max_pool_2)\n",
    "model.add(conv_3)\n",
    "model.add(conv_4)\n",
    "model.add(conv_5)\n",
    "model.add(flatten)\n",
    "model.add(dense_1)\n",
    "model.add(dropout_1)\n",
    "model.add(final)\n",
    "\n",
    "model.compile(optimizer='sgd', loss=categorical_crossentropy, metrics=['accuracy'])\n",
    "\n",
    "history = model.fit(x=x_train, y=ytr, batch_size=batch_size, epochs=epochs,\n",
    "          validation_data=(x_test, yte), verbose=1)\n",
    "\n",
    "score = model.evaluate(x_test, yte, verbose=0)\n",
    "print('Test loss:', score[0])\n",
    "print('Test accuracy:', score[1])"
   ]
  },
  {
   "cell_type": "code",
   "execution_count": 43,
   "metadata": {
    "colab": {
     "base_uri": "https://localhost:8080/",
     "height": 279
    },
    "colab_type": "code",
    "id": "QnU0yijQ24lM",
    "outputId": "e1300aef-df27-4f0e-bc32-15a76de91fc2"
   },
   "outputs": [
    {
     "data": {
      "image/png": "[encoded data removed]",
      "text/plain": [
       "<Figure size 432x288 with 1 Axes>"
      ]
     },
     "metadata": {
      "needs_background": "light",
      "tags": []
     },
     "output_type": "display_data"
    }
   ],
   "source": [
    "fig,ax = plt.subplots(1,1)\n",
    "ax.set_xlabel('epoch')\n",
    "ax.set_ylabel('Categorical Crossentropy Loss')\n",
    "# list of epoch numbers\n",
    "x = list(range(1,epochs+1))\n",
    "vy = history.history['val_loss']\n",
    "ty = history.history['loss']\n",
    "plt_dynamic(x, vy, ty, ax)"
   ]
  },
  {
   "cell_type": "markdown",
   "metadata": {
    "colab_type": "text",
    "id": "ij_QLUH-JKRJ"
   },
   "source": [
    "7 Convolutional Layers"
   ]
  },
  {
   "cell_type": "markdown",
   "metadata": {
    "colab_type": "text",
    "id": "OqC0278TJZaS"
   },
   "source": [
    "Kernel size 2"
   ]
  },
  {
   "cell_type": "code",
   "execution_count": 44,
   "metadata": {
    "colab": {
     "base_uri": "https://localhost:8080/",
     "height": 204
    },
    "colab_type": "code",
    "id": "DtrSjQ0msDZM",
    "outputId": "35a04407-671d-40cb-d183-c4ab542b0563"
   },
   "outputs": [
    {
     "name": "stdout",
     "output_type": "stream",
     "text": [
      "Train on 60000 samples, validate on 10000 samples\n",
      "Epoch 1/4\n",
      "60000/60000 [==============================] - 200s 3ms/step - loss: 0.4748 - accuracy: 0.8482 - val_loss: 0.0694 - val_accuracy: 0.9812\n",
      "Epoch 2/4\n",
      "60000/60000 [==============================] - 196s 3ms/step - loss: 0.1302 - accuracy: 0.9695 - val_loss: 0.0571 - val_accuracy: 0.9841\n",
      "Epoch 3/4\n",
      "60000/60000 [==============================] - 196s 3ms/step - loss: 0.0936 - accuracy: 0.9779 - val_loss: 0.0657 - val_accuracy: 0.9831\n",
      "Epoch 4/4\n",
      "60000/60000 [==============================] - 194s 3ms/step - loss: 0.0792 - accuracy: 0.9808 - val_loss: 0.0445 - val_accuracy: 0.9883\n",
      "Test loss: 0.04449258501893973\n",
      "Test accuracy: 0.9883000254631042\n"
     ]
    }
   ],
   "source": [
    "kernel=2\n",
    "epochs=4\n",
    "model = Sequential()\n",
    "conv_1 = Conv2D(filters=32, kernel_size=kernel, input_shape = input_shape, activation='relu')\n",
    "conv_2 = Conv2D(filters=64, kernel_size=kernel, activation='relu')\n",
    "conv_3 = Conv2D(filters=128, kernel_size=kernel, activation='relu')\n",
    "conv_4 = Conv2D(filters=256, kernel_size=kernel, activation='relu')\n",
    "conv_5 = Conv2D(filters=512, kernel_size=kernel, activation='relu')\n",
    "conv_6 = Conv2D(filters=512, kernel_size=kernel, activation='relu')\n",
    "conv_7 = Conv2D(filters=512, kernel_size=kernel, activation='relu')\n",
    "\n",
    "zero_pad = ZeroPadding2D(padding=(24,24))\n",
    "\n",
    "max_pool_1 = MaxPooling2D()\n",
    "max_pool_2 = MaxPooling2D()\n",
    "\n",
    "dropout_1 = Dropout(0.25)\n",
    "dropout_2 = Dropout(0.50)\n",
    "\n",
    "flatten = Flatten()\n",
    "dense_1 = Dense(units=128, activation='relu')\n",
    "dense_2 = Dense(units=64, activation='relu')\n",
    "final = Dense(units=num_classes, activation='softmax')\n",
    "\n",
    "model.add(conv_1)\n",
    "model.add(max_pool_1)\n",
    "model.add(zero_pad)\n",
    "model.add(conv_2)\n",
    "model.add(max_pool_2)\n",
    "model.add(conv_3)\n",
    "model.add(conv_4)\n",
    "model.add(conv_5)\n",
    "model.add(conv_6)\n",
    "model.add(conv_7)\n",
    "model.add(flatten)\n",
    "model.add(dense_1)\n",
    "model.add(dropout_1)\n",
    "model.add(dense_2)\n",
    "model.add(dropout_2)\n",
    "model.add(final)\n",
    "\n",
    "model.compile(optimizer='adam', loss=categorical_crossentropy, metrics=['accuracy'])\n",
    "\n",
    "history = model.fit(x=x_train, y=ytr, batch_size=batch_size, epochs=epochs,\n",
    "          validation_data=(x_test, yte), verbose=1)\n",
    "\n",
    "score = model.evaluate(x_test, yte, verbose=0)\n",
    "print('Test loss:', score[0])\n",
    "print('Test accuracy:', score[1])"
   ]
  },
  {
   "cell_type": "code",
   "execution_count": 45,
   "metadata": {
    "colab": {
     "base_uri": "https://localhost:8080/",
     "height": 279
    },
    "colab_type": "code",
    "id": "9UAIH7tW29Jh",
    "outputId": "318da9ec-cedf-4ff6-8467-74f9d50e43df"
   },
   "outputs": [
    {
     "data": {
      "image/png": "[encoded data removed]",
      "text/plain": [
       "<Figure size 432x288 with 1 Axes>"
      ]
     },
     "metadata": {
      "needs_background": "light",
      "tags": []
     },
     "output_type": "display_data"
    }
   ],
   "source": [
    "fig,ax = plt.subplots(1,1)\n",
    "ax.set_xlabel('epoch')\n",
    "ax.set_ylabel('Categorical Crossentropy Loss')\n",
    "# list of epoch numbers\n",
    "x = list(range(1,epochs+1))\n",
    "vy = history.history['val_loss']\n",
    "ty = history.history['loss']\n",
    "plt_dynamic(x, vy, ty, ax)"
   ]
  },
  {
   "cell_type": "markdown",
   "metadata": {
    "colab_type": "text",
    "id": "DgaPiJDRL8r9"
   },
   "source": [
    "Kernel Size: 3"
   ]
  },
  {
   "cell_type": "code",
   "execution_count": 46,
   "metadata": {
    "colab": {
     "base_uri": "https://localhost:8080/",
     "height": 238
    },
    "colab_type": "code",
    "id": "N2S0UeQiKLin",
    "outputId": "c2bc9117-b3b6-4217-c205-9946ac2c9aab"
   },
   "outputs": [
    {
     "name": "stdout",
     "output_type": "stream",
     "text": [
      "Train on 60000 samples, validate on 10000 samples\n",
      "Epoch 1/5\n",
      "60000/60000 [==============================] - 31s 517us/step - loss: 1.3812 - accuracy: 0.4629 - val_loss: 0.2774 - val_accuracy: 0.9295\n",
      "Epoch 2/5\n",
      "60000/60000 [==============================] - 30s 499us/step - loss: 0.2413 - accuracy: 0.9414 - val_loss: 0.1078 - val_accuracy: 0.9721\n",
      "Epoch 3/5\n",
      "60000/60000 [==============================] - 30s 498us/step - loss: 0.1457 - accuracy: 0.9674 - val_loss: 0.1172 - val_accuracy: 0.9754\n",
      "Epoch 4/5\n",
      "60000/60000 [==============================] - 30s 498us/step - loss: 0.1144 - accuracy: 0.9747 - val_loss: 0.0893 - val_accuracy: 0.9799\n",
      "Epoch 5/5\n",
      "60000/60000 [==============================] - 30s 498us/step - loss: 0.0922 - accuracy: 0.9792 - val_loss: 0.0950 - val_accuracy: 0.9823\n",
      "Test loss: 0.09495201612031369\n",
      "Test accuracy: 0.9822999835014343\n"
     ]
    }
   ],
   "source": [
    "kernel=3\n",
    "epochs=5\n",
    "model = Sequential()\n",
    "conv_1 = Conv2D(filters=32, kernel_size=kernel, input_shape = input_shape, activation='relu')\n",
    "conv_2 = Conv2D(filters=64, kernel_size=kernel, activation='relu')\n",
    "conv_3 = Conv2D(filters=128, kernel_size=kernel, activation='relu')\n",
    "conv_4 = Conv2D(filters=256, kernel_size=kernel, activation='relu')\n",
    "conv_5 = Conv2D(filters=512, kernel_size=kernel, activation='relu')\n",
    "conv_6 = Conv2D(filters=512, kernel_size=kernel, activation='relu')\n",
    "conv_7 = Conv2D(filters=512, kernel_size=kernel, activation='relu')\n",
    "\n",
    "zero_pad_1 = ZeroPadding2D(padding=(3,3))\n",
    "zero_pad_2 = ZeroPadding2D(padding=(3,3))\n",
    "zero_pad_3 = ZeroPadding2D(padding=(3,3))\n",
    "zero_pad_4 = ZeroPadding2D(padding=(3,3))\n",
    "zero_pad_5 = ZeroPadding2D(padding=(3,3))\n",
    "\n",
    "max_pool_1 = MaxPooling2D()\n",
    "max_pool_2 = MaxPooling2D()\n",
    "max_pool_3 = MaxPooling2D()\n",
    "max_pool_4 = MaxPooling2D()\n",
    "max_pool_5 = MaxPooling2D()\n",
    "max_pool_6 = MaxPooling2D()\n",
    "\n",
    "dropout_1 = Dropout(0.25)\n",
    "dropout_2 = Dropout(0.50)\n",
    "\n",
    "flatten = Flatten()\n",
    "dense_1 = Dense(units=128, activation='relu')\n",
    "dense_2 = Dense(units=64, activation='relu')\n",
    "final = Dense(units=num_classes, activation='softmax')\n",
    "\n",
    "model.add(conv_1)\n",
    "model.add(max_pool_1)\n",
    "model.add(conv_2)\n",
    "model.add(max_pool_2)\n",
    "model.add(conv_3)\n",
    "model.add(max_pool_3)\n",
    "model.add(zero_pad_4)\n",
    "model.add(conv_4)\n",
    "model.add(max_pool_4)\n",
    "model.add(zero_pad_5)\n",
    "model.add(conv_5)\n",
    "model.add(max_pool_5)\n",
    "model.add(zero_pad_1)\n",
    "model.add(conv_6)\n",
    "model.add(max_pool_6)\n",
    "model.add(zero_pad_2)\n",
    "model.add(conv_7)\n",
    "model.add(zero_pad_3)\n",
    "model.add(flatten)\n",
    "model.add(dense_1)\n",
    "model.add(dropout_1)\n",
    "model.add(dense_2)\n",
    "model.add(dropout_2)\n",
    "model.add(final)\n",
    "\n",
    "model.compile(optimizer='adam', loss=categorical_crossentropy, metrics=['accuracy'])\n",
    "\n",
    "history = model.fit(x=x_train, y=ytr, batch_size=batch_size, epochs=epochs,\n",
    "          validation_data=(x_test, yte), verbose=1)\n",
    "\n",
    "score = model.evaluate(x_test, yte, verbose=0)\n",
    "print('Test loss:', score[0])\n",
    "print('Test accuracy:', score[1])"
   ]
  },
  {
   "cell_type": "code",
   "execution_count": 47,
   "metadata": {
    "colab": {
     "base_uri": "https://localhost:8080/",
     "height": 279
    },
    "colab_type": "code",
    "id": "R-TIZL4R3BOm",
    "outputId": "b07e704a-a2c3-4402-ac71-b8342ee5586c"
   },
   "outputs": [
    {
     "data": {
      "image/png": "[encoded data removed]",
      "text/plain": [
       "<Figure size 432x288 with 1 Axes>"
      ]
     },
     "metadata": {
      "needs_background": "light",
      "tags": []
     },
     "output_type": "display_data"
    }
   ],
   "source": [
    "fig,ax = plt.subplots(1,1)\n",
    "ax.set_xlabel('epoch')\n",
    "ax.set_ylabel('Categorical Crossentropy Loss')\n",
    "# list of epoch numbers\n",
    "x = list(range(1,epochs+1))\n",
    "vy = history.history['val_loss']\n",
    "ty = history.history['loss']\n",
    "plt_dynamic(x, vy, ty, ax)"
   ]
  },
  {
   "cell_type": "markdown",
   "metadata": {
    "colab_type": "text",
    "id": "dh_LbRQYMsmS"
   },
   "source": [
    "Kernel Size: 5"
   ]
  },
  {
   "cell_type": "code",
   "execution_count": 48,
   "metadata": {
    "colab": {
     "base_uri": "https://localhost:8080/",
     "height": 238
    },
    "colab_type": "code",
    "id": "QeXYN77yMvgu",
    "outputId": "903e3641-511a-48f6-eb76-fa6e05ca360b"
   },
   "outputs": [
    {
     "name": "stdout",
     "output_type": "stream",
     "text": [
      "Train on 60000 samples, validate on 10000 samples\n",
      "Epoch 1/5\n",
      "60000/60000 [==============================] - 96s 2ms/step - loss: 2.3019 - accuracy: 0.1118 - val_loss: 2.3015 - val_accuracy: 0.1135\n",
      "Epoch 2/5\n",
      "60000/60000 [==============================] - 94s 2ms/step - loss: 2.3013 - accuracy: 0.1124 - val_loss: 2.3011 - val_accuracy: 0.1135\n",
      "Epoch 3/5\n",
      "60000/60000 [==============================] - 94s 2ms/step - loss: 2.3011 - accuracy: 0.1124 - val_loss: 2.3009 - val_accuracy: 0.1135\n",
      "Epoch 4/5\n",
      "60000/60000 [==============================] - 94s 2ms/step - loss: 2.3010 - accuracy: 0.1124 - val_loss: 2.3007 - val_accuracy: 0.1135\n",
      "Epoch 5/5\n",
      "60000/60000 [==============================] - 94s 2ms/step - loss: 2.3008 - accuracy: 0.1124 - val_loss: 2.3006 - val_accuracy: 0.1135\n",
      "Test loss: 2.3005532260894777\n",
      "Test accuracy: 0.11349999904632568\n"
     ]
    }
   ],
   "source": [
    "kernel=5\n",
    "epochs=5\n",
    "model = Sequential()\n",
    "conv_1 = Conv2D(filters=32, kernel_size=kernel, input_shape = input_shape, activation='relu')\n",
    "conv_2 = Conv2D(filters=64, kernel_size=kernel, activation='relu')\n",
    "conv_3 = Conv2D(filters=128, kernel_size=kernel, activation='relu')\n",
    "conv_4 = Conv2D(filters=256, kernel_size=kernel, activation='relu')\n",
    "conv_5 = Conv2D(filters=512, kernel_size=kernel, activation='relu')\n",
    "conv_6 = Conv2D(filters=512, kernel_size=kernel, activation='relu')\n",
    "conv_7 = Conv2D(filters=512, kernel_size=kernel, activation='relu')\n",
    "\n",
    "zero_pad_0 = ZeroPadding2D(padding=(5,5))\n",
    "zero_pad_1 = ZeroPadding2D(padding=(5,5))\n",
    "zero_pad_2 = ZeroPadding2D(padding=(5,5))\n",
    "zero_pad_3 = ZeroPadding2D(padding=(5,5))\n",
    "zero_pad_4 = ZeroPadding2D(padding=(5,5))\n",
    "zero_pad_5 = ZeroPadding2D(padding=(5,5))\n",
    "\n",
    "max_pool_1 = MaxPooling2D()\n",
    "avg_pool_2 = AveragePooling2D()\n",
    "max_pool_3 = MaxPooling2D()\n",
    "avg_pool_4 = AveragePooling2D()\n",
    "max_pool_5 = MaxPooling2D()\n",
    "max_pool_6 = MaxPooling2D()\n",
    "\n",
    "dropout_1 = Dropout(0.25)\n",
    "dropout_2 = Dropout(0.50)\n",
    "\n",
    "flatten = Flatten()\n",
    "dense_1 = Dense(units=128, activation='relu')\n",
    "dense_2 = Dense(units=64, activation='relu')\n",
    "dense_3 = Dense(units=32, activation='relu')\n",
    "final = Dense(units=num_classes, activation='softmax')\n",
    "\n",
    "model.add(conv_1)\n",
    "model.add(max_pool_1)\n",
    "model.add(conv_2)\n",
    "model.add(avg_pool_2)\n",
    "model.add(zero_pad_0)\n",
    "model.add(conv_3)\n",
    "model.add(max_pool_3)\n",
    "model.add(zero_pad_1)\n",
    "model.add(conv_4)\n",
    "model.add(avg_pool_4)\n",
    "model.add(zero_pad_2)\n",
    "model.add(conv_5)\n",
    "model.add(max_pool_5)\n",
    "model.add(zero_pad_3)\n",
    "model.add(conv_6)\n",
    "model.add(max_pool_6)\n",
    "model.add(zero_pad_4)\n",
    "model.add(conv_7)\n",
    "model.add(zero_pad_5)\n",
    "model.add(flatten)\n",
    "model.add(dense_1)\n",
    "model.add(dense_2)\n",
    "model.add(dense_3)\n",
    "model.add(final)\n",
    "\n",
    "model.compile(optimizer='sgd', loss=categorical_crossentropy, metrics=['accuracy'])\n",
    "\n",
    "history = model.fit(x=x_train, y=ytr, batch_size=batch_size, epochs=epochs,\n",
    "          validation_data=(x_test, yte), verbose=1)\n",
    "\n",
    "score = model.evaluate(x_test, yte, verbose=0)\n",
    "print('Test loss:', score[0])\n",
    "print('Test accuracy:', score[1])"
   ]
  },
  {
   "cell_type": "code",
   "execution_count": 49,
   "metadata": {
    "colab": {
     "base_uri": "https://localhost:8080/",
     "height": 282
    },
    "colab_type": "code",
    "id": "UfnokHN-eJCS",
    "outputId": "86718528-db01-4512-c871-e4bc603dbdca"
   },
   "outputs": [
    {
     "data": {
      "image/png": "[encoded data removed]",
      "text/plain": [
       "<Figure size 432x288 with 1 Axes>"
      ]
     },
     "metadata": {
      "needs_background": "light",
      "tags": []
     },
     "output_type": "display_data"
    }
   ],
   "source": [
    "fig,ax = plt.subplots(1,1)\n",
    "ax.set_xlabel('epoch')\n",
    "ax.set_ylabel('Categorical Crossentropy Loss')\n",
    "# list of epoch numbers\n",
    "x = list(range(1,epochs+1))\n",
    "vy = history.history['val_loss']\n",
    "ty = history.history['loss']\n",
    "plt_dynamic(x, vy, ty, ax)"
   ]
  },
  {
   "cell_type": "code",
   "execution_count": null,
   "metadata": {
    "colab": {},
    "colab_type": "code",
    "id": "pyjgGMF436Ge"
   },
   "outputs": [],
   "source": []
  }
 ],
 "metadata": {
  "accelerator": "GPU",
  "colab": {
   "collapsed_sections": [],
   "name": "MNIST_with_different_CONV_nets.ipynb",
   "provenance": []
  },
  "kernelspec": {
   "display_name": "Python 3",
   "language": "python",
   "name": "python3"
  },
  "language_info": {
   "codemirror_mode": {
    "name": "ipython",
    "version": 3
   },
   "file_extension": ".py",
   "mimetype": "text/x-python",
   "name": "python",
   "nbconvert_exporter": "python",
   "pygments_lexer": "ipython3",
   "version": "3.7.4"
  }
 },
 "nbformat": 4,
 "nbformat_minor": 1
}
