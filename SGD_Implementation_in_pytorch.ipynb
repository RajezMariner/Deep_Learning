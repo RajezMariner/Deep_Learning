{
  "nbformat": 4,
  "nbformat_minor": 0,
  "metadata": {
    "colab": {
      "name": "SGD Implementation in pytorch",
      "provenance": [],
      "collapsed_sections": [],
      "authorship_tag": "ABX9TyNYCdoqm3FSHFLJPHJHh74w",
      "include_colab_link": true
    },
    "kernelspec": {
      "name": "python3",
      "display_name": "Python 3"
    }
  },
  "cells": [
    {
      "cell_type": "markdown",
      "metadata": {
        "id": "view-in-github",
        "colab_type": "text"
      },
      "source": [
        "<a href=\"https://colab.research.google.com/github/RajezMariner/Deep_Learning/blob/master/SGD_Implementation_in_pytorch.ipynb\" target=\"_parent\"><img src=\"https://colab.research.google.com/assets/colab-badge.svg\" alt=\"Open In Colab\"/></a>"
      ]
    },
    {
      "cell_type": "code",
      "metadata": {
        "id": "auzKOIFUf9YJ",
        "colab_type": "code",
        "colab": {}
      },
      "source": [
        "from fastai import *\n",
        "from fastai.vision import torch, tensor, nn\n",
        "import matplotlib.pyplot as plt\n",
        "from matplotlib import animation\n",
        "import numpy as np"
      ],
      "execution_count": 107,
      "outputs": []
    },
    {
      "cell_type": "code",
      "metadata": {
        "id": "tgW_am3HgUym",
        "colab_type": "code",
        "colab": {}
      },
      "source": [
        "n=100"
      ],
      "execution_count": 57,
      "outputs": []
    },
    {
      "cell_type": "code",
      "metadata": {
        "id": "XP3K29g4gbVP",
        "colab_type": "code",
        "colab": {}
      },
      "source": [
        "x = torch.ones(n, 2)"
      ],
      "execution_count": 58,
      "outputs": []
    },
    {
      "cell_type": "code",
      "metadata": {
        "id": "5khaSTy1gkDA",
        "colab_type": "code",
        "colab": {
          "base_uri": "https://localhost:8080/",
          "height": 102
        },
        "outputId": "6cdbeabb-0078-4a1a-ab1c-db393a61f784"
      },
      "source": [
        "x[:,0].uniform_(-1., 1)\n",
        "x[:5]"
      ],
      "execution_count": 59,
      "outputs": [
        {
          "output_type": "execute_result",
          "data": {
            "text/plain": [
              "tensor([[-0.2115,  1.0000],\n",
              "        [-0.2004,  1.0000],\n",
              "        [ 0.5285,  1.0000],\n",
              "        [-0.9548,  1.0000],\n",
              "        [ 0.1976,  1.0000]])"
            ]
          },
          "metadata": {
            "tags": []
          },
          "execution_count": 59
        }
      ]
    },
    {
      "cell_type": "code",
      "metadata": {
        "id": "zINkCE7ug-5v",
        "colab_type": "code",
        "colab": {}
      },
      "source": [
        "a = tensor([3., 2.])"
      ],
      "execution_count": 60,
      "outputs": []
    },
    {
      "cell_type": "code",
      "metadata": {
        "id": "npDStaIjiVi6",
        "colab_type": "code",
        "colab": {}
      },
      "source": [
        "z = x@a + torch.randn(n)"
      ],
      "execution_count": 61,
      "outputs": []
    },
    {
      "cell_type": "code",
      "metadata": {
        "id": "LApyeu15ifHW",
        "colab_type": "code",
        "colab": {
          "base_uri": "https://localhost:8080/",
          "height": 238
        },
        "outputId": "33b9e320-a478-4b0d-a562-6c1c3940d4da"
      },
      "source": [
        "z"
      ],
      "execution_count": 62,
      "outputs": [
        {
          "output_type": "execute_result",
          "data": {
            "text/plain": [
              "tensor([ 0.4741,  1.0369,  4.1017,  0.2126,  2.4204, -0.0622,  6.8706,  5.0931,\n",
              "         0.6103,  0.8688,  0.7029,  4.5015,  1.8881,  2.7365,  1.5240, -1.3674,\n",
              "         2.8585,  2.2760, -0.3098,  1.1678,  4.9080,  2.7534,  2.2222, -0.4534,\n",
              "         2.4761,  3.1766,  2.2035, -0.2806,  3.5548,  1.8732,  0.1329,  4.2669,\n",
              "         4.4058,  0.2689,  4.2159,  4.5249,  4.6242,  1.7150,  3.4461,  0.6515,\n",
              "         4.0910,  1.1188,  2.9729,  3.6500,  0.5237,  0.0859,  2.4356,  2.3974,\n",
              "         2.2921,  1.7187, -0.6799,  3.8414,  2.3192,  4.8462, -2.2830, -0.3412,\n",
              "         1.6120,  1.4574, -1.1716,  2.6537, -0.9347,  0.0861,  4.8880,  0.4460,\n",
              "         1.5871,  3.6696,  0.5600,  2.4849,  2.2810,  2.8966,  5.4892,  1.8263,\n",
              "         1.4383,  0.0651,  2.5802,  4.5170, -0.7724,  2.7269,  3.7162,  4.7696,\n",
              "         3.3685,  5.5367,  2.7975,  1.0249,  3.5188,  4.5870,  2.9002,  1.0380,\n",
              "        -0.4780,  2.1275,  1.7074,  4.0347,  3.7738,  5.8728, -1.0111, -0.2219,\n",
              "         2.0486,  1.0300,  4.6782,  0.6486])"
            ]
          },
          "metadata": {
            "tags": []
          },
          "execution_count": 62
        }
      ]
    },
    {
      "cell_type": "code",
      "metadata": {
        "id": "hRcJ-AUkjAL0",
        "colab_type": "code",
        "colab": {}
      },
      "source": [
        "%matplotlib inline"
      ],
      "execution_count": 63,
      "outputs": []
    },
    {
      "cell_type": "code",
      "metadata": {
        "id": "oFDESWVXijcG",
        "colab_type": "code",
        "colab": {
          "base_uri": "https://localhost:8080/",
          "height": 282
        },
        "outputId": "fa2cb220-fc26-4995-c8a9-02292fab5b5d"
      },
      "source": [
        "plt.scatter(x[:,0],z)"
      ],
      "execution_count": 64,
      "outputs": [
        {
          "output_type": "execute_result",
          "data": {
            "text/plain": [
              "<matplotlib.collections.PathCollection at 0x7f9c9e837668>"
            ]
          },
          "metadata": {
            "tags": []
          },
          "execution_count": 64
        },
        {
          "output_type": "display_data",
          "data": {
            "image/png": "[encoded data removed]",
            "text/plain": [
              "<Figure size 432x288 with 1 Axes>"
            ]
          },
          "metadata": {
            "tags": [],
            "needs_background": "light"
          }
        }
      ]
    },
    {
      "cell_type": "code",
      "metadata": {
        "id": "hvc4uIb1nTC3",
        "colab_type": "code",
        "colab": {}
      },
      "source": [
        "def mse(y_hat, y): return ((y_hat-y)**2).mean()"
      ],
      "execution_count": 65,
      "outputs": []
    },
    {
      "cell_type": "code",
      "metadata": {
        "id": "IDt8RVIXjL0o",
        "colab_type": "code",
        "colab": {}
      },
      "source": [
        "a = tensor(-1., 1.)\n",
        "y_hat = x@a"
      ],
      "execution_count": 66,
      "outputs": []
    },
    {
      "cell_type": "code",
      "metadata": {
        "id": "XSozsGAznRw5",
        "colab_type": "code",
        "colab": {
          "base_uri": "https://localhost:8080/",
          "height": 34
        },
        "outputId": "2b49ef45-106a-478b-f31a-7230bfd3f21b"
      },
      "source": [
        "mse(y_hat, z)"
      ],
      "execution_count": 67,
      "outputs": [
        {
          "output_type": "execute_result",
          "data": {
            "text/plain": [
              "tensor(7.1034)"
            ]
          },
          "metadata": {
            "tags": []
          },
          "execution_count": 67
        }
      ]
    },
    {
      "cell_type": "code",
      "metadata": {
        "id": "-m4Tk5FEnd5B",
        "colab_type": "code",
        "colab": {
          "base_uri": "https://localhost:8080/",
          "height": 282
        },
        "outputId": "f07954f7-7c16-4d08-fd61-a932af97870a"
      },
      "source": [
        "plt.scatter(x[:, 0], z)\n",
        "plt.scatter(x[:, 0], y_hat)"
      ],
      "execution_count": 68,
      "outputs": [
        {
          "output_type": "execute_result",
          "data": {
            "text/plain": [
              "<matplotlib.collections.PathCollection at 0x7f9c9e81b7f0>"
            ]
          },
          "metadata": {
            "tags": []
          },
          "execution_count": 68
        },
        {
          "output_type": "display_data",
          "data": {
            "image/png": "[encoded data removed]",
            "text/plain": [
              "<Figure size 432x288 with 1 Axes>"
            ]
          },
          "metadata": {
            "tags": [],
            "needs_background": "light"
          }
        }
      ]
    },
    {
      "cell_type": "markdown",
      "metadata": {
        "id": "e2yS_6YYn6jj",
        "colab_type": "text"
      },
      "source": [
        "Gradient Descent"
      ]
    },
    {
      "cell_type": "code",
      "metadata": {
        "id": "mFbJ0AZ5vtDA",
        "colab_type": "code",
        "colab": {}
      },
      "source": [
        "a = nn.Parameter(a)"
      ],
      "execution_count": 72,
      "outputs": []
    },
    {
      "cell_type": "code",
      "metadata": {
        "id": "3T7zUkWUvwRg",
        "colab_type": "code",
        "colab": {
          "base_uri": "https://localhost:8080/",
          "height": 51
        },
        "outputId": "9432352a-5fcf-4dfd-965d-eed161885bf4"
      },
      "source": [
        "a"
      ],
      "execution_count": 73,
      "outputs": [
        {
          "output_type": "execute_result",
          "data": {
            "text/plain": [
              "Parameter containing:\n",
              "tensor([-1.,  1.], requires_grad=True)"
            ]
          },
          "metadata": {
            "tags": []
          },
          "execution_count": 73
        }
      ]
    },
    {
      "cell_type": "code",
      "metadata": {
        "id": "erdx9oevn-Cd",
        "colab_type": "code",
        "colab": {}
      },
      "source": [
        "lr=1e-1\n",
        "def update():\n",
        "  y_hat = x@a\n",
        "  loss = mse(y_hat, z)\n",
        "  if t % 30 == 0: print(loss)\n",
        "  loss.backward()\n",
        "  with torch.no_grad():\n",
        "    a.sub_(lr*a.grad)\n",
        "    a.grad.zero_()"
      ],
      "execution_count": 88,
      "outputs": []
    },
    {
      "cell_type": "code",
      "metadata": {
        "id": "faNBJB9Nt_sa",
        "colab_type": "code",
        "colab": {
          "base_uri": "https://localhost:8080/",
          "height": 187
        },
        "outputId": "5c84c3a7-db5b-49f3-8775-3540d19852a5"
      },
      "source": [
        "for t in range(300):\n",
        "  update()"
      ],
      "execution_count": 89,
      "outputs": [
        {
          "output_type": "stream",
          "text": [
            "tensor(1.1099, grad_fn=<MeanBackward0>)\n",
            "tensor(1.1099, grad_fn=<MeanBackward0>)\n",
            "tensor(1.1099, grad_fn=<MeanBackward0>)\n",
            "tensor(1.1099, grad_fn=<MeanBackward0>)\n",
            "tensor(1.1099, grad_fn=<MeanBackward0>)\n",
            "tensor(1.1099, grad_fn=<MeanBackward0>)\n",
            "tensor(1.1099, grad_fn=<MeanBackward0>)\n",
            "tensor(1.1099, grad_fn=<MeanBackward0>)\n",
            "tensor(1.1099, grad_fn=<MeanBackward0>)\n",
            "tensor(1.1099, grad_fn=<MeanBackward0>)\n"
          ],
          "name": "stdout"
        }
      ]
    },
    {
      "cell_type": "code",
      "metadata": {
        "id": "QEnjkvM-uOWK",
        "colab_type": "code",
        "colab": {
          "base_uri": "https://localhost:8080/",
          "height": 282
        },
        "outputId": "49bf2dc8-9e12-4d2c-e5d2-84426748e4fb"
      },
      "source": [
        "plt.scatter(x[:,0], z)\n",
        "plt.scatter(x[:,0], x@a.detach().numpy())"
      ],
      "execution_count": 91,
      "outputs": [
        {
          "output_type": "execute_result",
          "data": {
            "text/plain": [
              "<matplotlib.collections.PathCollection at 0x7f9c9d647e48>"
            ]
          },
          "metadata": {
            "tags": []
          },
          "execution_count": 91
        },
        {
          "output_type": "display_data",
          "data": {
            "image/png": "[encoded data removed]",
            "text/plain": [
              "<Figure size 432x288 with 1 Axes>"
            ]
          },
          "metadata": {
            "tags": [],
            "needs_background": "light"
          }
        }
      ]
    },
    {
      "cell_type": "code",
      "metadata": {
        "id": "bwAVw9G8wWVW",
        "colab_type": "code",
        "colab": {
          "base_uri": "https://localhost:8080/",
          "height": 34
        },
        "outputId": "5af42030-9054-4f76-a6b5-53a566f50522"
      },
      "source": [
        "a = nn.Parameter(tensor(1., -1.))\n",
        "fig = plt.figure()\n",
        "plt.scatter(x[:,0], z, c='red')\n",
        "line, = plt.plot(x[:,0], x@a.detach().numpy())\n",
        "plt.close()\n",
        "\n",
        "def animate(i):\n",
        "  update()\n",
        "  line.set_ydata(x@a)\n",
        "  return line,\n",
        "\n",
        "animation.FuncAnimation(fig, animate, np.arange(0,400), interval=10, blit=True)"
      ],
      "execution_count": 113,
      "outputs": [
        {
          "output_type": "execute_result",
          "data": {
            "text/plain": [
              "<matplotlib.animation.FuncAnimation at 0x7f9c9cf40e10>"
            ]
          },
          "metadata": {
            "tags": []
          },
          "execution_count": 113
        }
      ]
    }
  ]
}